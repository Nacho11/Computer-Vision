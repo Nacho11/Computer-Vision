{
 "cells": [
  {
   "cell_type": "markdown",
   "metadata": {},
   "source": [
    "# 3D to 2D"
   ]
  },
  {
   "cell_type": "code",
   "execution_count": 396,
   "metadata": {
    "collapsed": true
   },
   "outputs": [],
   "source": [
    "import numpy as np\n",
    "from mpl_toolkits.mplot3d import Axes3D\n",
    "import matplotlib.pyplot as plt \n",
    "import matplotlib.patches as patches\n",
    "import mpl_toolkits.mplot3d as plt3d\n",
    "import itertools"
   ]
  },
  {
   "cell_type": "code",
   "execution_count": 481,
   "metadata": {
    "collapsed": true
   },
   "outputs": [],
   "source": [
    "# This function generates the points.\n",
    "def create_points():\n",
    "    points_map = {}\n",
    "    points_list = list(itertools.permutations([-0.5,-0.5,-0.5,0,0,0,0.5,0.5,0.5], 3))\n",
    "    new_points_list = []\n",
    "    for each in points_list:\n",
    "        if each in points_map:\n",
    "            continue\n",
    "        else:\n",
    "            points_map[each] = 1\n",
    "            new_points_list.append([each[0], each[1], each[2]]) \n",
    "    return np.array(new_points_list)"
   ]
  },
  {
   "cell_type": "code",
   "execution_count": 450,
   "metadata": {
    "collapsed": true
   },
   "outputs": [],
   "source": [
    "def preset_cams():\n",
    "    r = 5\n",
    "    focal_length = 0.06\n",
    "    width = 256\n",
    "    height = 256\n",
    "    alpha = np.pi/6\n",
    "    beta = np.pi/6\n",
    "    \n",
    "    cam1 = { 'position': [r * np.cos(beta) * np.cos(alpha), r * np.cos(beta) * np.sin(alpha), r * np.sin(beta)],\n",
    "           'target':[0,0,0],\n",
    "           'up':[0,0,1],\n",
    "           'focal_length':focal_length,\n",
    "           'film_width':0.035,\n",
    "           'film_height':0.035,\n",
    "           'width':width,\n",
    "           'height':height,\n",
    "           }\n",
    "    \n",
    "    alpha = np.pi/3\n",
    "    beta = np.pi/6\n",
    "    \n",
    "    cam2 = { 'position': [r * np.cos(beta) * np.cos(alpha), r * np.cos(beta) * np.sin(alpha), r * np.sin(beta)],\n",
    "           'target':[0,0,0],\n",
    "           'up':[0,0,1],\n",
    "           'focal_length':focal_length,\n",
    "           'film_width':0.035,\n",
    "           'film_height':0.035,\n",
    "           'width':width,\n",
    "           'height':height,\n",
    "           }\n",
    "    \n",
    "    return cam1, cam2"
   ]
  },
  {
   "cell_type": "code",
   "execution_count": 451,
   "metadata": {
    "collapsed": true
   },
   "outputs": [],
   "source": [
    "def camera_coordinate_system(cam):\n",
    "    zcam = np.array(cam['target']) - np.array(cam['position'])\n",
    "    xcam = np.cross(zcam, cam['up'])\n",
    "    ycam = np.cross(zcam, xcam)\n",
    "    \n",
    "    zcam = zcam / np.linalg.norm(zcam)\n",
    "    xcam = xcam / np.linalg.norm(xcam)\n",
    "    ycam = ycam / np.linalg.norm(ycam)\n",
    "    \n",
    "    origin = cam['position']\n",
    "    return xcam, ycam, zcam, origin"
   ]
  },
  {
   "cell_type": "code",
   "execution_count": 452,
   "metadata": {
    "collapsed": true
   },
   "outputs": [],
   "source": [
    "cam1, cam2 = preset_cams()"
   ]
  },
  {
   "cell_type": "code",
   "execution_count": 493,
   "metadata": {
    "collapsed": true
   },
   "outputs": [],
   "source": [
    "#This is the transformation between the world and camera coordinates \n",
    "def extrinsics_matrix(cam):\n",
    "    xcam, ycam, zcam, origin = camera_coordinate_system(cam)\n",
    "    R = np.array([xcam[:], ycam[:], zcam[:]])\n",
    "    t = np.dot(R, origin)\n",
    "    M = np.append(R.T, [np.round(-t, 2)], axis = 0)\n",
    "    return M"
   ]
  },
  {
   "cell_type": "code",
   "execution_count": 495,
   "metadata": {
    "collapsed": true
   },
   "outputs": [],
   "source": [
    "#This is the calibration matrix which describes the camera cordinates to the pixel space\n",
    "def intrinsics_matrix(cam):\n",
    "    x_0 = (cam['width']+1) * 0.5\n",
    "    y_0 = (cam['height']+1) * 0.5\n",
    "    f_x = cam['focal_length'] * cam['width'] / cam['film_width']\n",
    "    f_y = cam['focal_length'] * cam['height'] / cam['film_height']\n",
    "    K = [[f_x, 0, x_0] ,[0, f_y, y_0] , [0, 0, 1]]\n",
    "    return np.array(K).T"
   ]
  },
  {
   "cell_type": "code",
   "execution_count": 496,
   "metadata": {
    "collapsed": true
   },
   "outputs": [],
   "source": [
    "#This is the camera matrix\n",
    "def camera_matrix(cam):\n",
    "    M = extrinsics_matrix(cam)\n",
    "    K = intrinsics_matrix(cam)\n",
    "    P = np.dot(M, K)\n",
    "    return P\n",
    "    "
   ]
  },
  {
   "cell_type": "code",
   "execution_count": 497,
   "metadata": {
    "collapsed": true
   },
   "outputs": [],
   "source": [
    "#Converting the points from 3D to 2D\n",
    "def world2image(cam, points):\n",
    "    P = camera_matrix(cam)\n",
    "    points = np.reshape(points, (27, 3))\n",
    "    pt = np.append(points, np.ones((27, 1)), axis=1)\n",
    "    pt = np.dot(pt, P)\n",
    "    x = pt[:, 0] / pt[:, 2]\n",
    "    y = pt[:, 1] / pt[:, 2]\n",
    "    points2d = []\n",
    "    for i in range(0, len(x)):\n",
    "        points2d.append([x[i], y[i]])\n",
    "    return points2d, x, y"
   ]
  },
  {
   "cell_type": "code",
   "execution_count": 498,
   "metadata": {
    "collapsed": true
   },
   "outputs": [],
   "source": [
    "points2d, x, y = world2image(cam1, points)\n",
    "points2d2, x2, y2 = world2image(cam2, points)"
   ]
  },
  {
   "cell_type": "code",
   "execution_count": 499,
   "metadata": {
    "collapsed": true
   },
   "outputs": [],
   "source": [
    "def color_list():\n",
    "    color_list = ['Red', 'Red', 'Red', 'Green', 'Green', 'Green', 'Blue', 'Blue', 'Blue', 'Orange', 'Orange', 'Orange', 'Yellow', 'Yellow', 'Yellow', 'Purple', 'Purple', 'Purple', 'Pink', 'Pink', 'Pink', 'White', 'White', 'White', 'Brown', 'Brown', 'Brown']\n",
    "    return color_list"
   ]
  },
  {
   "cell_type": "code",
   "execution_count": 500,
   "metadata": {},
   "outputs": [
    {
     "data": {
      "image/png": "[encoded data removed]",
      "text/plain": [
       "<matplotlib.figure.Figure at 0x10917c6d8>"
      ]
     },
     "metadata": {},
     "output_type": "display_data"
    },
    {
     "data": {
      "image/png": "[encoded data removed]",
      "text/plain": [
       "<matplotlib.figure.Figure at 0x109f14128>"
      ]
     },
     "metadata": {},
     "output_type": "display_data"
    }
   ],
   "source": [
    "#Plotting the points on a canvas\n",
    "colors = color_list()\n",
    "fig = plt.figure(figsize=(4,4))\n",
    "ax = fig.add_subplot(1,1,1)\n",
    "ax.set_facecolor('black')\n",
    "ax.scatter(x, y, c = colors)\n",
    "ax.set_xlim([0, 275])\n",
    "ax.set_ylim([0, 275])\n",
    "plt.show()\n",
    "fig = plt.figure(figsize=(4,4))\n",
    "ax = fig.add_subplot(1,1,1)\n",
    "ax.set_facecolor('black')\n",
    "ax.scatter(x2, y2, c = colors)\n",
    "ax.set_xlim([0, 275])\n",
    "ax.set_ylim([0, 275])\n",
    "plt.show()"
   ]
  },
  {
   "cell_type": "code",
   "execution_count": 509,
   "metadata": {
    "collapsed": true
   },
   "outputs": [],
   "source": [
    "def third_camera():\n",
    "    r = 5\n",
    "    focal_length = 0.06\n",
    "    width = 256\n",
    "    height = 256\n",
    "    alpha = np.pi/3\n",
    "    beta = np.pi/3\n",
    "    \n",
    "    cam3 = { 'position': [r * np.cos(beta) * np.cos(alpha), r * np.cos(beta) * np.sin(alpha), r * np.sin(beta)],\n",
    "           'target':[0,0,0],\n",
    "           'up':[0,0,1],\n",
    "           'focal_length':focal_length,\n",
    "           'film_width':0.035,\n",
    "           'film_height':0.035,\n",
    "           'width':width,\n",
    "           'height':height,\n",
    "           }\n",
    "    return cam3"
   ]
  },
  {
   "cell_type": "code",
   "execution_count": 510,
   "metadata": {
    "collapsed": true
   },
   "outputs": [],
   "source": [
    "cam3 = third_camera()"
   ]
  },
  {
   "cell_type": "code",
   "execution_count": 511,
   "metadata": {
    "collapsed": true
   },
   "outputs": [],
   "source": [
    "points2d3, x3, y3 = world2image(cam3, points)"
   ]
  },
  {
   "cell_type": "code",
   "execution_count": 512,
   "metadata": {},
   "outputs": [
    {
     "data": {
      "image/png": "[encoded data removed]",
      "text/plain": [
       "<matplotlib.figure.Figure at 0x109c89390>"
      ]
     },
     "metadata": {},
     "output_type": "display_data"
    }
   ],
   "source": [
    "fig = plt.figure(figsize=(4,4))\n",
    "ax = fig.add_subplot(1,1,1)\n",
    "ax.set_facecolor('black')\n",
    "ax.scatter(x3, y3, c = colors)\n",
    "ax.set_xlim([0, 275])\n",
    "ax.set_ylim([0, 275])\n",
    "plt.show()"
   ]
  },
  {
   "cell_type": "code",
   "execution_count": null,
   "metadata": {
    "collapsed": true
   },
   "outputs": [],
   "source": []
  }
 ],
 "metadata": {
  "kernelspec": {
   "display_name": "Python 3",
   "language": "python",
   "name": "python3"
  },
  "language_info": {
   "codemirror_mode": {
    "name": "ipython",
    "version": 3
   },
   "file_extension": ".py",
   "mimetype": "text/x-python",
   "name": "python",
   "nbconvert_exporter": "python",
   "pygments_lexer": "ipython3",
   "version": "3.6.4"
  }
 },
 "nbformat": 4,
 "nbformat_minor": 2
}
